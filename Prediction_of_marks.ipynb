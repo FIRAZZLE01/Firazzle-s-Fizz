{
  "nbformat": 4,
  "nbformat_minor": 0,
  "metadata": {
    "colab": {
      "name": "Prediction of marks.ipynb",
      "provenance": []
    },
    "kernelspec": {
      "name": "python3",
      "display_name": "Python 3"
    }
  },
  "cells": [
    {
      "cell_type": "markdown",
      "metadata": {
        "id": "Q4QNNN7jAlg8"
      },
      "source": [
        " **TSF-Prediction of marks using Linear Regression**"
      ]
    },
    {
      "cell_type": "markdown",
      "metadata": {
        "id": "Yq1ghkjE2Obc"
      },
      "source": [
        "**Importing Required Libraries**"
      ]
    },
    {
      "cell_type": "code",
      "metadata": {
        "id": "HUhcglyq2ZAb"
      },
      "source": [
        "import pandas as pd\r\n",
        "import numpy as np  \r\n",
        "import matplotlib.pyplot as plt  \r\n",
        "%matplotlib inline"
      ],
      "execution_count": null,
      "outputs": []
    },
    {
      "cell_type": "markdown",
      "metadata": {
        "id": "bS1N397l2e-E"
      },
      "source": [
        "**Importing the Dataset from remote URL**"
      ]
    },
    {
      "cell_type": "code",
      "metadata": {
        "id": "dkGmQHK1267Q",
        "colab": {
          "base_uri": "https://localhost:8080/"
        },
        "outputId": "fb5bb55b-ccd2-431b-cd94-97e586cc431e"
      },
      "source": [
        "url = \"http://bit.ly/w-data\"\r\n",
        "sample_data = pd.read_csv(url)\r\n",
        "print(sample_data.head(10))\r\n",
        "print(\"Data imported Successfully\")"
      ],
      "execution_count": null,
      "outputs": [
        {
          "output_type": "stream",
          "text": [
            "   Hours  Scores\n",
            "0    2.5      21\n",
            "1    5.1      47\n",
            "2    3.2      27\n",
            "3    8.5      75\n",
            "4    3.5      30\n",
            "5    1.5      20\n",
            "6    9.2      88\n",
            "7    5.5      60\n",
            "8    8.3      81\n",
            "9    2.7      25\n",
            "Data imported Successfully\n"
          ],
          "name": "stdout"
        }
      ]
    },
    {
      "cell_type": "markdown",
      "metadata": {
        "id": "uj56zws5BG1U"
      },
      "source": [
        "**Data Plotting**"
      ]
    },
    {
      "cell_type": "code",
      "metadata": {
        "id": "GgNtp4c93SCW",
        "colab": {
          "base_uri": "https://localhost:8080/",
          "height": 295
        },
        "outputId": "39b993c1-91ef-4e2d-99ba-35a3ad3eee36"
      },
      "source": [
        "sample_data.plot(x='Hours', y='Scores', style='*',color='orange')  \r\n",
        "plt.title('Hours Studied vs Percentage',color='darkblue')  \r\n",
        "plt.xlabel('Hours Studied',color='red')  \r\n",
        "plt.ylabel('Percentage Score',color='red')  \r\n",
        "plt.legend(loc=0)\r\n",
        "plt.show()"
      ],
      "execution_count": null,
      "outputs": [
        {
          "output_type": "display_data",
          "data": {
            "image/png": "[encoded data removed]",
            "text/plain": [
              "<Figure size 432x288 with 1 Axes>"
            ]
          },
          "metadata": {
            "tags": [],
            "needs_background": "light"
          }
        }
      ]
    },
    {
      "cell_type": "markdown",
      "metadata": {
        "id": "Nvj9FNybDJOR"
      },
      "source": [
        "**This plot infers that there is a positive Linear Regression between Hours studies and Percentage score**"
      ]
    },
    {
      "cell_type": "markdown",
      "metadata": {
        "id": "KptTa3ozDABK"
      },
      "source": [
        "**Data Preparation for Training**"
      ]
    },
    {
      "cell_type": "code",
      "metadata": {
        "id": "rZIKz-q_C8aF"
      },
      "source": [
        "x = sample_data.iloc[:, :-1].values  \r\n",
        "y = sample_data.iloc[:, 1].values "
      ],
      "execution_count": null,
      "outputs": []
    },
    {
      "cell_type": "code",
      "metadata": {
        "id": "A0BwQOomEBYf"
      },
      "source": [
        "from sklearn.model_selection import train_test_split  \r\n",
        "x_train, x_test, y_train, y_test = train_test_split(x, y, \r\n",
        "                            test_size=0.1, random_state=0) "
      ],
      "execution_count": null,
      "outputs": []
    },
    {
      "cell_type": "markdown",
      "metadata": {
        "id": "inN-xt5TEbTW"
      },
      "source": [
        "**Traing the Algorithm with the training part of the Dataset**"
      ]
    },
    {
      "cell_type": "code",
      "metadata": {
        "colab": {
          "base_uri": "https://localhost:8080/"
        },
        "id": "d02UfWc0Eimi",
        "outputId": "716cafa0-dced-4d05-95d2-ace8e7222cdd"
      },
      "source": [
        "from sklearn.linear_model import LinearRegression  \r\n",
        "regressor = LinearRegression()  \r\n",
        "regressor.fit(x_train, y_train) \r\n",
        "print(\"Training complete.\")"
      ],
      "execution_count": null,
      "outputs": [
        {
          "output_type": "stream",
          "text": [
            "Training complete.\n"
          ],
          "name": "stdout"
        }
      ]
    },
    {
      "cell_type": "code",
      "metadata": {
        "colab": {
          "base_uri": "https://localhost:8080/",
          "height": 543
        },
        "id": "2ip2aYDTEv5l",
        "outputId": "f07f8536-3570-499c-c30e-e6eee9831e3b"
      },
      "source": [
        "line = regressor.coef_*x+regressor.intercept_\r\n",
        "plt.scatter(x, y, label='Scores',color='orange',marker='*')\r\n",
        "sample_data.plot(x='Hours', y='Scores', style='*',color='orange')  \r\n",
        "plt.plot(x, line,label='Fitted line',color='darkgreen')\r\n",
        "plt.title('Linear Regression plot',color='darkblue')\r\n",
        "plt.xlabel('Hours Studied',color='red')  \r\n",
        "plt.ylabel('Percentage Score',color='red')  \r\n",
        "plt.legend(loc=0)\r\n",
        "plt.show()"
      ],
      "execution_count": null,
      "outputs": [
        {
          "output_type": "display_data",
          "data": {
            "image/png": "[encoded data removed]",
            "text/plain": [
              "<Figure size 432x288 with 1 Axes>"
            ]
          },
          "metadata": {
            "tags": [],
            "needs_background": "light"
          }
        },
        {
          "output_type": "display_data",
          "data": {
            "image/png": "[encoded data removed]",
            "text/plain": [
              "<Figure size 432x288 with 1 Axes>"
            ]
          },
          "metadata": {
            "tags": [],
            "needs_background": "light"
          }
        }
      ]
    },
    {
      "cell_type": "markdown",
      "metadata": {
        "id": "pgUaVOKLGPcK"
      },
      "source": [
        "**Predictions**"
      ]
    },
    {
      "cell_type": "code",
      "metadata": {
        "colab": {
          "base_uri": "https://localhost:8080/"
        },
        "id": "MuGxsiKQGPyf",
        "outputId": "cd479a87-67ce-4550-a03c-eefb295459e4"
      },
      "source": [
        "print(x_test) \r\n",
        "y_pred = regressor.predict(x_test)"
      ],
      "execution_count": null,
      "outputs": [
        {
          "output_type": "stream",
          "text": [
            "[[1.5]\n",
            " [3.2]\n",
            " [7.4]]\n"
          ],
          "name": "stdout"
        }
      ]
    },
    {
      "cell_type": "markdown",
      "metadata": {
        "id": "AGZZAlwyGfIN"
      },
      "source": [
        "**Actual data and Predicted value comparison**"
      ]
    },
    {
      "cell_type": "code",
      "metadata": {
        "colab": {
          "base_uri": "https://localhost:8080/"
        },
        "id": "VfniWYxHGfbN",
        "outputId": "69b71301-3266-4948-a65f-a0b4fc877b24"
      },
      "source": [
        "df = pd.DataFrame({'Actual Value': y_test, 'Predicted value': y_pred})  \r\n",
        "print(df)"
      ],
      "execution_count": null,
      "outputs": [
        {
          "output_type": "stream",
          "text": [
            "   Actual Value  Predicted value\n",
            "0            20        17.302210\n",
            "1            27        34.055294\n",
            "2            69        75.445267\n"
          ],
          "name": "stdout"
        }
      ]
    },
    {
      "cell_type": "markdown",
      "metadata": {
        "id": "sIrQwXTnLT36"
      },
      "source": [
        "**Testing of the trained model**"
      ]
    },
    {
      "cell_type": "code",
      "metadata": {
        "colab": {
          "base_uri": "https://localhost:8080/"
        },
        "id": "iIGAqm5WLVAw",
        "outputId": "8f158987-fcf3-41e8-a504-8da156324077"
      },
      "source": [
        "hours=float(input())\r\n",
        "value=pd.Series(hours)\r\n",
        "predicted_value=regressor.predict(value.values.reshape(1,-1))\r\n",
        "print(\"Predicted Score for the student if he studied for \"+str(hours)+\" hours = {0} \".format(predicted_value[0]))"
      ],
      "execution_count": null,
      "outputs": [
        {
          "output_type": "stream",
          "text": [
            "9.25\n",
            "Predicted Score for the student if he studied for 9.25 hours = 93.67656425238496 \n"
          ],
          "name": "stdout"
        }
      ]
    },
    {
      "cell_type": "markdown",
      "metadata": {
        "id": "4YEQsZJhPgNk"
      },
      "source": [
        "**Evaluation of the model**"
      ]
    },
    {
      "cell_type": "code",
      "metadata": {
        "colab": {
          "base_uri": "https://localhost:8080/"
        },
        "id": "ntJrmmWjPg3_",
        "outputId": "ecf5ef34-2ede-4233-a7de-c7bdcd09eaea"
      },
      "source": [
        "from sklearn import metrics  \r\n",
        "print('Mean Absolute Error:', metrics.mean_absolute_error(y_test, y_pred)) \r\n",
        "print('Adjusted R Square:',metrics.r2_score(y_test, y_pred))"
      ],
      "execution_count": null,
      "outputs": [
        {
          "output_type": "stream",
          "text": [
            "Mean Absolute Error: 5.3994503136120064\n",
            "Adjusted R Square: 0.9298077534821835\n"
          ],
          "name": "stdout"
        }
      ]
    }
  ]
}